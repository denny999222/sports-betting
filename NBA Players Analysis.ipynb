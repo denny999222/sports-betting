{
 "cells": [
  {
   "cell_type": "code",
   "execution_count": 2,
   "id": "forty-latest",
   "metadata": {},
   "outputs": [],
   "source": [
    "# IMPORTS\n",
    "# data-related libraries\n",
    "import pandas as pd\n",
    "import numpy as np\n",
    "import matplotlib.pyplot as plt\n",
    "import seaborn as sns\n",
    "import sklearn\n",
    "\n",
    "# api-related libraries\n",
    "import requests"
   ]
  },
  {
   "cell_type": "code",
   "execution_count": 3,
   "id": "coordinate-ballet",
   "metadata": {},
   "outputs": [],
   "source": [
    "# STEP 0 - INPUT CORRECT VARIABLES\n",
    "home_team = \"Nuggets\"\n",
    "away_team = \"Pelicans\"\n",
    "current_date = \"2023-01-31\" # this is to get all games before this date\n",
    "\n"
   ]
  },
  {
   "cell_type": "code",
   "execution_count": 4,
   "id": "unlikely-looking",
   "metadata": {},
   "outputs": [
    {
     "name": "stdout",
     "output_type": "stream",
     "text": [
      "-------- ALL TEAMS --------\n",
      "Hawks\n",
      "Celtics\n",
      "Nets\n",
      "Hornets\n",
      "Bulls\n",
      "Cavaliers\n",
      "Mavericks\n",
      "Nuggets\n",
      "Pistons\n",
      "Warriors\n",
      "Rockets\n",
      "Pacers\n",
      "Clippers\n",
      "Lakers\n",
      "Grizzlies\n",
      "Heat\n",
      "Bucks\n",
      "Timberwolves\n",
      "Pelicans\n",
      "Knicks\n",
      "Thunder\n",
      "Magic\n",
      "76ers\n",
      "Suns\n",
      "Trail Blazers\n",
      "Kings\n",
      "Spurs\n",
      "Raptors\n",
      "Jazz\n",
      "Wizards\n",
      "-------- TEAM MATCHUP IDS --------\n",
      "Nuggets 8\n",
      "Pelicans 19\n"
     ]
    }
   ],
   "source": [
    "# STEP 1 - FETCH TEAMS\n",
    "# keys: ['id', 'abbreviation', 'city', 'conference', 'division', 'full_name', 'name']\n",
    "teams = (requests.get(\"https://www.balldontlie.io/api/v1/teams\")).json()['data']\n",
    "\n",
    "home_id = 0\n",
    "away_id = 0\n",
    "\n",
    "print('-------- ALL TEAMS --------')\n",
    "for team in teams:\n",
    "    print(team['name'])\n",
    "    if (team['name'] == home_team): \n",
    "        home_id = team['id']\n",
    "    if (team['name'] == away_team): \n",
    "        away_id = team['id']\n",
    "\n",
    "print('-------- TEAM MATCHUP IDS --------')\n",
    "print(home_team, home_id)\n",
    "print(away_team, away_id)"
   ]
  },
  {
   "cell_type": "code",
   "execution_count": 5,
   "id": "alternate-apple",
   "metadata": {},
   "outputs": [
    {
     "name": "stdout",
     "output_type": "stream",
     "text": [
      "-------- Nuggets All Games Before 2023-01-31 --------\n",
      "51 games\n",
      "-------- Pelicans All Games Before 2023-01-31 --------\n",
      "52 games\n"
     ]
    }
   ],
   "source": [
    "# STEP 2 - FIND ALL GAMES FOR THESE TEAMS\n",
    "all_games_home_team = []\n",
    "all_games_away_team = []\n",
    "\n",
    "\n",
    "for page in range(0,10):\n",
    "    games = (requests.get(f\"https://www.balldontlie.io/api/v1/games?page={page+1}&seasons[]=2022&team_ids[]={home_id}&end_date={current_date}\"))\n",
    "    games.raise_for_status()\n",
    "    all_games_home_team += games.json()['data']\n",
    "    if (len(games.json()['data']) == 0): \n",
    "        break\n",
    "\n",
    "    \n",
    "for page in range(0,10):\n",
    "    games = (requests.get(f\"https://www.balldontlie.io/api/v1/games?page={page+1}&seasons[]=2022&team_ids[]={away_id}&end_date={current_date}\"))\n",
    "    games.raise_for_status()\n",
    "    all_games_away_team += games.json()['data']\n",
    "    if (len(games.json()['data']) == 0):\n",
    "        break\n",
    "    \n",
    "print(f\"-------- {home_team} All Games Before {current_date} --------\")\n",
    "print(len(all_games_home_team), 'games')\n",
    "print(f\"-------- {away_team} All Games Before {current_date} --------\")\n",
    "print(len(all_games_away_team), 'games')\n",
    "\n"
   ]
  },
  {
   "cell_type": "code",
   "execution_count": 6,
   "id": "everyday-iceland",
   "metadata": {},
   "outputs": [],
   "source": [
    "# STEP 3a - GET STATS OF A GAME FOR EACH PLAYER ON HOME TEAM\n",
    "\n",
    "home_team_stats_for_all_games = {}\n",
    "\n",
    "for game in all_games_home_team:\n",
    "    stats_for_game = (requests.get(f\"https://www.balldontlie.io/api/v1/stats?game_ids[]={game['id']}\", headers = {'User-agent': 'your bot 0.1'}))\n",
    "    stats_for_game.raise_for_status()\n",
    "    home_team_stats_for_all_games[game['id']] = stats_for_game.json()['data']"
   ]
  },
  {
   "cell_type": "code",
   "execution_count": 8,
   "id": "limiting-profit",
   "metadata": {},
   "outputs": [],
   "source": [
    "# STEP 3b - GET STATS OF A GAME FOR EACH PLAYER ON HOME TEAM\n",
    "\n",
    "away_team_stats_for_all_games = {}\n",
    "\n",
    "for game in all_games_away_team:\n",
    "    stats_for_game = (requests.get(f\"https://www.balldontlie.io/api/v1/stats?game_ids[]={game['id']}\", headers = {'User-agent': 'your bot 0.1'}))\n",
    "    stats_for_game.raise_for_status()\n",
    "    away_team_stats_for_all_games[game['id']] = stats_for_game.json()['data']"
   ]
  },
  {
   "cell_type": "code",
   "execution_count": 9,
   "id": "fluid-capability",
   "metadata": {},
   "outputs": [],
   "source": [
    "# STEP 4a - FORMAT BASED ON PLAYERS IN HOME TEAM\n",
    "home_team_player_stats = {}\n",
    "for game_id in home_team_stats_for_all_games:\n",
    "    for player_stat in home_team_stats_for_all_games[game_id]:\n",
    "        if (player_stat['team']['name'] == home_team):\n",
    "            first_name = player_stat['player']['first_name']\n",
    "            last_name = player_stat['player']['last_name']\n",
    "            full_name = first_name + \" \" + last_name\n",
    "            if full_name in home_team_player_stats:\n",
    "                home_team_player_stats[full_name] += [player_stat]\n",
    "            else:\n",
    "                home_team_player_stats[full_name] = [player_stat]\n"
   ]
  },
  {
   "cell_type": "code",
   "execution_count": 10,
   "id": "worst-weapon",
   "metadata": {},
   "outputs": [],
   "source": [
    "# STEP 4b - FORMAT BASED ON PLAYERS IN AWAY TEAM\n",
    "\n",
    "away_team_player_stats = {}\n",
    "for game_id in away_team_stats_for_all_games:\n",
    "    for player_stat in away_team_stats_for_all_games[game_id]:\n",
    "        if (player_stat['team']['name'] == away_team):\n",
    "            first_name = player_stat['player']['first_name']\n",
    "            last_name = player_stat['player']['last_name']\n",
    "            full_name = first_name + \" \" + last_name\n",
    "            if full_name in away_team_player_stats:\n",
    "                away_team_player_stats[full_name] += [player_stat]\n",
    "            else:\n",
    "                away_team_player_stats[full_name] = [player_stat]\n"
   ]
  },
  {
   "cell_type": "code",
   "execution_count": 19,
   "id": "sustained-cornell",
   "metadata": {},
   "outputs": [
    {
     "name": "stdout",
     "output_type": "stream",
     "text": [
      "Aaron Gordon had 34/42 games with these parlays:\n",
      "          id                      date  ast  blk  reb  stl  pts  fg3a  fg3m\n",
      "18  12070543  2022-10-19T00:00:00.000Z    2    1   10    1   22     2     0\n",
      "0   12069242  2022-10-21T00:00:00.000Z    3    0    3    0   10     6     0\n",
      "1   12069293  2022-10-22T00:00:00.000Z    2    3   10    0   11     3     1\n",
      "2   12069975  2022-10-24T00:00:00.000Z    1    0    6    0   26     2     0\n",
      "3   12096541  2022-10-26T00:00:00.000Z    5    2    9    0    6     3     0\n",
      "14  12160392  2022-10-28T00:00:00.000Z    0    2    1    0    3     3     1\n",
      "7   12300133  2022-11-03T00:00:00.000Z    3    0    5    1   27     4     3\n",
      "9   12309071  2022-11-05T00:00:00.000Z    2    0    6    0    8     1     0\n",
      "10  12317286  2022-11-07T00:00:00.000Z    5    1    5    4    9     1     0\n",
      "16  12323319  2022-11-09T00:00:00.000Z    6    1   16    1   18     3     1\n",
      "11  12341060  2022-11-13T00:00:00.000Z    2    0    5    0   13     1     1\n",
      "4   12353812  2022-11-16T00:00:00.000Z    0    0    0    0    0     0     0\n",
      "13  12373485  2022-11-22T00:00:00.000Z    1    1    7    1   17     2     1\n",
      "5   12387811  2022-11-25T00:00:00.000Z    3    2    7    2   29     4     2\n",
      "15  12397346  2022-11-28T00:00:00.000Z    0    0    3    1    4     1     0\n",
      "17  12405172  2022-11-30T00:00:00.000Z    2    1    6    0   20     4     2\n",
      "12  12411231  2022-12-02T00:00:00.000Z    3    0    5    2   14     2     0\n",
      "8   12421699  2022-12-04T00:00:00.000Z    0    0    8    0   19     3     1\n",
      "6   12430418  2022-12-06T00:00:00.000Z    2    0    8    1   27     2     2\n",
      "19  12437177  2022-12-08T00:00:00.000Z    0    0    5    1   20     3     2\n",
      "33  12445398  2022-12-10T00:00:00.000Z    1    0    1    2   15     4     0\n",
      "29  12461205  2022-12-14T00:00:00.000Z    3    1    7    1   22     1     0\n",
      "27  12470445  2022-12-16T00:00:00.000Z    1    1    3    2   17     4     1\n",
      "24  12477148  2022-12-18T00:00:00.000Z    1    1   10    3   19     2     2\n",
      "20  12484829  2022-12-20T00:00:00.000Z    4    1    7    2   24     2     1\n",
      "28  12496989  2022-12-23T00:00:00.000Z    1    1    6    0   13     1     0\n",
      "22  12504181  2022-12-25T00:00:00.000Z    2    1   13    1   28     2     1\n",
      "25  12511665  2022-12-27T00:00:00.000Z    0    0    0    0    0     0     0\n",
      "30  12521394  2022-12-30T00:00:00.000Z    3    0    5    2   11     1     0\n",
      "34  12530819  2023-01-01T00:00:00.000Z    7    1    6    2   18     2     1\n",
      "37  12548203  2023-01-05T00:00:00.000Z    3    0    7    0   13     0     0\n",
      "26  12550699  2023-01-06T00:00:00.000Z    1    0   10    0   12     2     1\n",
      "38  12562876  2023-01-09T00:00:00.000Z    0    4   10    0    9     5     1\n",
      "31  12572678  2023-01-11T00:00:00.000Z    2    1    0    1   12     0     0\n",
      "32  12588192  2023-01-15T00:00:00.000Z    5    0    8    0   25     3     2\n",
      "35  12595420  2023-01-17T00:00:00.000Z    8    1    7    1   11     1     0\n",
      "40  12605941  2023-01-20T00:00:00.000Z    6    0    5    0   28     2     1\n",
      "23  12615112  2023-01-22T00:00:00.000Z    1    1   10    2   15     3     1\n",
      "39  12621408  2023-01-24T00:00:00.000Z    3    1    4    0   11     1     1\n",
      "36  12624825  2023-01-25T00:00:00.000Z    4    2   14    0   26     5     3\n",
      "21  12635502  2023-01-28T00:00:00.000Z    3    0    5    0   18     1     0\n",
      "41  12649873  2023-01-31T00:00:00.000Z    6    0    6    0   15     3     1\n"
     ]
    }
   ],
   "source": [
    "# STEP 5 - DECLARE THE PLAYER AND THE CONDITIONS YOU NEED FOR A SINGLE PLAYER\n",
    "player_full_name = \"Aaron Gordon\"\n",
    "\n",
    "\n",
    "visible_attributes = [\"id\", \"date\", \"ast\", \"blk\", \"reb\", \"stl\", \"pts\", \"fg3a\", \"fg3m\"]\n",
    "df = None\n",
    "\n",
    "if player_full_name in away_team_player_stats:\n",
    "    df = pd.DataFrame(away_team_player_stats[player_full_name])\n",
    "elif player_full_name in home_team_player_stats:\n",
    "    df = pd.DataFrame(home_team_player_stats[player_full_name])\n",
    "\n",
    "df['date'] = df['game'].apply(lambda x: x.get('date'))\n",
    "\n",
    "df = df[visible_attributes]\n",
    "sorted_df = df.sort_values(by=\"date\", ascending=True)\n",
    "filtered_df = df[(df['pts'] >= 10)]\n",
    "\n",
    "print(f\"{player_full_name} had {len(filtered_df)}/{len(df)} games with these parlays:\")\n",
    "print(sorted_df)"
   ]
  },
  {
   "cell_type": "code",
   "execution_count": null,
   "id": "numeric-defensive",
   "metadata": {},
   "outputs": [],
   "source": []
  },
  {
   "cell_type": "code",
   "execution_count": null,
   "id": "confused-dining",
   "metadata": {},
   "outputs": [],
   "source": []
  }
 ],
 "metadata": {
  "kernelspec": {
   "display_name": "Python 3",
   "language": "python",
   "name": "python3"
  },
  "language_info": {
   "codemirror_mode": {
    "name": "ipython",
    "version": 3
   },
   "file_extension": ".py",
   "mimetype": "text/x-python",
   "name": "python",
   "nbconvert_exporter": "python",
   "pygments_lexer": "ipython3",
   "version": "3.8.2"
  }
 },
 "nbformat": 4,
 "nbformat_minor": 5
}
